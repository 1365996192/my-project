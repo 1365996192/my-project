{
  "cells": [
    {
      "cell_type": "code",
      "execution_count": 17,
      "metadata": {
        "colab": {
          "base_uri": "https://localhost:8080/"
        },
        "id": "zau1FBjMtPJ7",
        "outputId": "cfafd3ec-275b-42e4-ad80-cd84cfdc5e30"
      },
      "outputs": [
        {
          "output_type": "stream",
          "name": "stdout",
          "text": [
            "Document 1: BM25 Score = 0.6867949711487502\n",
            "Document 2: BM25 Score = 0.6867949711487502\n",
            "Document 3: BM25 Score = 1.0170570337776572\n",
            "Ranked Documents: [(3, 1.0170570337776572), (1, 0.6867949711487502), (2, 0.6867949711487502)]\n",
            "Top Document: 3, Top Score: 1.0170570337776572\n"
          ]
        }
      ],
      "source": [
        "import numpy as np\n",
        "from collections import Counter\n",
        "\n",
        "\n",
        "class BM25_Model(object):\n",
        "    def __init__(self, documents_list, k1=1.25, b=0.75):\n",
        "        self.documents_list = documents_list\n",
        "        self.documents_number = len(documents_list)\n",
        "        self.avg_documents_len = sum([len(document) for document in documents_list]) / self.documents_number\n",
        "        self.f = []\n",
        "        self.idf = {}\n",
        "        self.k1 = k1\n",
        "        self.b = b\n",
        "        self.init()\n",
        "\n",
        "    def init(self):\n",
        "        df = {}\n",
        "        for document in self.documents_list:\n",
        "            temp = {}\n",
        "            for word in document:\n",
        "                temp[word] = temp.get(word, 0) + 1\n",
        "            self.f.append(temp)\n",
        "            for key in temp.keys():\n",
        "                df[key] = df.get(key, 0) + 1\n",
        "        for key, value in df.items():\n",
        "            self.idf[key] = np.log((self.documents_number - value + 0.5) / (value + 0.5)+1)\n",
        "\n",
        "    def get_score(self, index, query):\n",
        "        score = 0.0\n",
        "        document_len = len(self.f[index])\n",
        "        qf = Counter(query)\n",
        "        for q in query:\n",
        "            if q not in self.f[index]:\n",
        "                continue\n",
        "            score += self.idf[q] * (self.f[index][q] * (self.k1 + 1) / (\n",
        "                        self.f[index][q] + self.k1 * (1 - self.b + self.b * document_len / self.avg_documents_len)))\n",
        "\n",
        "        return score\n",
        "\n",
        "    def get_documents_score(self, query):\n",
        "        score_list = []\n",
        "        for i in range(self.documents_number):\n",
        "            score_list.append(self.get_score(i, query))\n",
        "        return score_list\n",
        "\n",
        "    def rank_documents(self, query):\n",
        "        document_scores = [(i+1, score) for i, score in enumerate(self.get_documents_score(query))]\n",
        "        ranked_documents = sorted(document_scores, key=lambda x: x[1], reverse=True)\n",
        "        return ranked_documents\n",
        "\n",
        "# 示例文档列表\n",
        "documents_list = [\n",
        "    [\"apple\", \"banana\", \"orange\", \"apple\"],\n",
        "    [\"orange\", \"kiwi\", \"banana\", \"kiwi\"],\n",
        "    [\"apple\", \"banana\", \"kiwi\"]\n",
        "]\n",
        "\n",
        "# 创建BM25模型对象\n",
        "bm25_model = BM25_Model(documents_list)\n",
        "\n",
        "# 要查询的查询字符串\n",
        "query = [\"apple\", \"kiwi\"]\n",
        "\n",
        "# 获取每个文档的BM25分数\n",
        "scores = bm25_model.get_documents_score(query)\n",
        "\n",
        "# 将文档和分数一一对应打印出来\n",
        "for i, score in enumerate(scores):\n",
        "    print(f\"Document {i + 1}: BM25 Score = {score}\")\n",
        "\n",
        "# 根据分数对文档进行排序\n",
        "ranked_documents = bm25_model.rank_documents(query)\n",
        "print(\"Ranked Documents:\", ranked_documents)\n",
        "top_document, top_score = ranked_documents[0]\n",
        "print(f\"Top Document: {top_document}, Top Score: {top_score}\")"
      ]
    }
  ],
  "metadata": {
    "colab": {
      "provenance": []
    },
    "kernelspec": {
      "display_name": "Python 3",
      "name": "python3"
    },
    "language_info": {
      "name": "python"
    }
  },
  "nbformat": 4,
  "nbformat_minor": 0
}